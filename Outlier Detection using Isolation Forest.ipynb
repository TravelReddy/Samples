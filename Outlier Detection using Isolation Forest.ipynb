{
 "cells": [
  {
   "cell_type": "code",
   "execution_count": 1,
   "metadata": {},
   "outputs": [
    {
     "name": "stdout",
     "output_type": "stream",
     "text": [
      "Automatically created module for IPython interactive environment\n"
     ]
    }
   ],
   "source": [
    "# Outlier detection using Isolation Forest \n",
    "\n",
    "import numpy as np\n",
    "import matplotlib.pyplot as plt\n",
    "from sklearn.ensemble import IsolationForest"
   ]
  },
  {
   "cell_type": "code",
   "execution_count": 2,
   "metadata": {},
   "outputs": [],
   "source": [
    "rng = np.random.RandomState(42)"
   ]
  },
  {
   "cell_type": "code",
   "execution_count": 3,
   "metadata": {},
   "outputs": [
    {
     "data": {
      "text/plain": [
       "<mtrand.RandomState at 0x1c0a2dafea0>"
      ]
     },
     "execution_count": 3,
     "metadata": {},
     "output_type": "execute_result"
    }
   ],
   "source": [
    "rng"
   ]
  },
  {
   "cell_type": "code",
   "execution_count": 4,
   "metadata": {},
   "outputs": [],
   "source": [
    "# Generate train data\n",
    "X = 0.3 * rng.randn(100, 2)"
   ]
  },
  {
   "cell_type": "code",
   "execution_count": 5,
   "metadata": {},
   "outputs": [
    {
     "data": {
      "text/plain": [
       "array([[ 0.14901425, -0.04147929],\n",
       "       [ 0.19430656,  0.45690896],\n",
       "       [-0.07024601, -0.07024109],\n",
       "       [ 0.47376384,  0.23023042],\n",
       "       [-0.14084232,  0.16276801],\n",
       "       [-0.13902531, -0.13971893],\n",
       "       [ 0.07258868, -0.57398407],\n",
       "       [-0.51747535, -0.16868626],\n",
       "       [-0.30384934,  0.0942742 ],\n",
       "       [-0.27240722, -0.42369111],\n",
       "       [ 0.43969463, -0.06773289],\n",
       "       [ 0.02025846, -0.42742446],\n",
       "       [-0.16331482,  0.03327678],\n",
       "       [-0.34529807,  0.11270941],\n",
       "       [-0.18019161, -0.08750812],\n",
       "       [-0.18051198,  0.55568346],\n",
       "       [-0.00404917, -0.31731328],\n",
       "       [ 0.24676347, -0.36625309],\n",
       "       [ 0.06265908, -0.58790104],\n",
       "       [-0.39845581,  0.05905837],\n",
       "       [ 0.22153997,  0.05141048],\n",
       "       [-0.03469448, -0.09033111],\n",
       "       [-0.4435566 , -0.21595326],\n",
       "       [-0.13819163,  0.31713667],\n",
       "       [ 0.10308549, -0.52891205],\n",
       "       [ 0.09722519, -0.11552468],\n",
       "       [-0.2030766 ,  0.18350289],\n",
       "       [ 0.30929986,  0.27938404],\n",
       "       [-0.25176526, -0.09276371],\n",
       "       [ 0.09937903,  0.29266354],\n",
       "       [-0.14375227, -0.05569769],\n",
       "       [-0.33190049, -0.35886199],\n",
       "       [ 0.24375775,  0.40687201],\n",
       "       [-0.02160304,  0.30105987],\n",
       "       [ 0.10849081, -0.19353593],\n",
       "       [ 0.10841868,  0.46141097],\n",
       "       [-0.01074781,  0.4693931 ],\n",
       "       [-0.78592353,  0.24657075],\n",
       "       [ 0.02611412, -0.08970221],\n",
       "       [ 0.02752823, -0.59627067],\n",
       "       [-0.06590157,  0.10713377],\n",
       "       [ 0.44336821, -0.15548107],\n",
       "       [-0.24254808, -0.15052711],\n",
       "       [ 0.27462064,  0.09862533],\n",
       "       [-0.15892806,  0.15398023],\n",
       "       [ 0.02912326,  0.2905935 ],\n",
       "       [-0.21061593, -0.09829864],\n",
       "       [-0.11763245, -0.43905448],\n",
       "       [ 0.08883608,  0.07831658],\n",
       "       [ 0.00153404, -0.07037614],\n",
       "       [-0.42461122, -0.1261936 ],\n",
       "       [-0.10281435, -0.24068318],\n",
       "       [-0.04838571,  0.12121526],\n",
       "       [ 0.56585577,  0.05237334],\n",
       "       [ 0.07726512, -0.02233377],\n",
       "       [-0.57563136, -0.00795416],\n",
       "       [ 0.01806906,  0.73897263],\n",
       "       [-0.05770829,  0.0904642 ],\n",
       "       [-0.01041353, -0.35060341],\n",
       "       [ 0.34284684,  0.22557991],\n",
       "       [ 0.23730958, -0.27281624],\n",
       "       [ 0.42083829, -0.42055532],\n",
       "       [ 0.17605713,  0.65713669],\n",
       "       [-0.2971609 , -0.16988932],\n",
       "       [ 0.02989541, -0.1510427 ],\n",
       "       [-0.46519903,  0.02056889],\n",
       "       [-0.31869111,  0.14207773],\n",
       "       [-0.27582727,  0.46498032],\n",
       "       [-0.23497599, -0.09661845],\n",
       "       [ 0.24405517, -0.36925929],\n",
       "       [ 0.06823798,  0.39214283],\n",
       "       [-0.48224497,  0.05539016],\n",
       "       [ 0.07796484,  0.23454686],\n",
       "       [-0.37108521, -0.39613698],\n",
       "       [ 0.15658247,  0.0890954 ],\n",
       "       [ 0.07514786,  0.10393446],\n",
       "       [-0.20400742,  0.06967611],\n",
       "       [ 0.08792174, -0.21430543],\n",
       "       [ 0.55973235,  0.14214988],\n",
       "       [-0.35739105,  0.19696608],\n",
       "       [-0.2924045 ,  0.23612538],\n",
       "       [ 0.34757867, -0.2462047 ],\n",
       "       [ 0.28901284,  0.12383428],\n",
       "       [ 0.24661805,  0.56903789],\n",
       "       [-0.07361643, -0.22612085],\n",
       "       [-0.26685433, -0.24474309],\n",
       "       [-0.02313051,  0.10234559],\n",
       "       [ 0.08300724,  0.24815497],\n",
       "       [ 0.00390057,  0.43606022],\n",
       "       [-0.07939705,  0.81605075],\n",
       "       [ 0.1877002 , -0.25714727],\n",
       "       [-0.32126775,  0.14474172],\n",
       "       [-0.06703884,  0.21420015],\n",
       "       [ 0.14197129, -0.02184867],\n",
       "       [-0.25403812, -0.45445417],\n",
       "       [-0.13395449,  0.25691964],\n",
       "       [ 0.06422812, -0.37372163],\n",
       "       [ 0.05195428,  0.11559521],\n",
       "       [-0.26515723,  0.04611753],\n",
       "       [ 0.01746262, -0.34289109]])"
      ]
     },
     "execution_count": 5,
     "metadata": {},
     "output_type": "execute_result"
    }
   ],
   "source": [
    "X"
   ]
  },
  {
   "cell_type": "code",
   "execution_count": 6,
   "metadata": {},
   "outputs": [],
   "source": [
    "X_train = np.r_[X + 2, X - 2]\n",
    "# Generate some regular novel observations"
   ]
  },
  {
   "cell_type": "code",
   "execution_count": 8,
   "metadata": {},
   "outputs": [],
   "source": [
    "X = 0.3 * rng.randn(20, 2)"
   ]
  },
  {
   "cell_type": "code",
   "execution_count": 9,
   "metadata": {},
   "outputs": [],
   "source": [
    "X_test = np.r_[X + 2, X - 2]"
   ]
  },
  {
   "cell_type": "code",
   "execution_count": 10,
   "metadata": {},
   "outputs": [],
   "source": [
    "# Generate some abnormal novel observations\n",
    "X_outliers = rng.uniform(low=-4, high=4, size=(20, 2))"
   ]
  },
  {
   "cell_type": "code",
   "execution_count": 21,
   "metadata": {},
   "outputs": [],
   "source": [
    "clf = IsolationForest(behaviour='new', max_samples=100, random_state=rng, contamination='auto')"
   ]
  },
  {
   "cell_type": "code",
   "execution_count": 22,
   "metadata": {},
   "outputs": [
    {
     "data": {
      "text/plain": [
       "IsolationForest(behaviour='new', bootstrap=False, contamination='auto',\n",
       "                max_features=1.0, max_samples=100, n_estimators=100,\n",
       "                n_jobs=None,\n",
       "                random_state=<mtrand.RandomState object at 0x000001C0A2DAFEA0>,\n",
       "                verbose=0, warm_start=False)"
      ]
     },
     "execution_count": 22,
     "metadata": {},
     "output_type": "execute_result"
    }
   ],
   "source": [
    "clf.fit(X_train)"
   ]
  },
  {
   "cell_type": "code",
   "execution_count": 23,
   "metadata": {},
   "outputs": [],
   "source": [
    "y_pred_train = clf.predict(X_train)"
   ]
  },
  {
   "cell_type": "code",
   "execution_count": 24,
   "metadata": {},
   "outputs": [],
   "source": [
    "y_pred_test = clf.predict(X_test)"
   ]
  },
  {
   "cell_type": "code",
   "execution_count": 25,
   "metadata": {},
   "outputs": [],
   "source": [
    "# fit the model\n",
    "y_pred_outliers = clf.predict(X_outliers)"
   ]
  },
  {
   "cell_type": "code",
   "execution_count": 26,
   "metadata": {},
   "outputs": [],
   "source": [
    "# plot the line, the samples, and the nearest vectors to the plane\n",
    "xx, yy = np.meshgrid(np.linspace(-5, 5, 50), np.linspace(-5, 5, 50))"
   ]
  },
  {
   "cell_type": "code",
   "execution_count": 27,
   "metadata": {},
   "outputs": [],
   "source": [
    "Z = clf.decision_function(np.c_[xx.ravel(), yy.ravel()])"
   ]
  },
  {
   "cell_type": "code",
   "execution_count": 28,
   "metadata": {},
   "outputs": [],
   "source": [
    "Z = Z.reshape(xx.shape)"
   ]
  },
  {
   "cell_type": "code",
   "execution_count": 42,
   "metadata": {},
   "outputs": [
    {
     "data": {
      "image/png": "[encoded data removed]",
      "text/plain": [
       "<Figure size 1080x504 with 1 Axes>"
      ]
     },
     "metadata": {
      "needs_background": "light"
     },
     "output_type": "display_data"
    }
   ],
   "source": [
    "plt.figure(figsize=(15,7))\n",
    "plt.title(\"IsolationForest\",c='red', size=20, pad=10)\n",
    "plt.contourf(xx, yy, Z, cmap=plt.cm.Blues_r)\n",
    "b1 = plt.scatter(X_train[:, 0], X_train[:, 1], c='white',s=20, edgecolor='k')\n",
    "b2 = plt.scatter(X_test[:, 0], X_test[:, 1], c='green', s=20, edgecolor='k')\n",
    "c = plt.scatter(X_outliers[:, 0], X_outliers[:, 1], c='red',s=20, edgecolor='k')\n",
    "plt.axis('tight')\n",
    "plt.xlim((-5, 5))\n",
    "plt.ylim((-5, 5))\n",
    "plt.legend([b1, b2, c],[\"training observations\",\"new regular observations\", \"new abnormal observations\"],loc=\"upper left\")\n",
    "plt.show()"
   ]
  },
  {
   "cell_type": "code",
   "execution_count": null,
   "metadata": {},
   "outputs": [],
   "source": []
  }
 ],
 "metadata": {
  "kernelspec": {
   "display_name": "Python 3",
   "language": "python",
   "name": "python3"
  },
  "language_info": {
   "codemirror_mode": {
    "name": "ipython",
    "version": 3
   },
   "file_extension": ".py",
   "mimetype": "text/x-python",
   "name": "python",
   "nbconvert_exporter": "python",
   "pygments_lexer": "ipython3",
   "version": "3.7.3"
  }
 },
 "nbformat": 4,
 "nbformat_minor": 2
}
