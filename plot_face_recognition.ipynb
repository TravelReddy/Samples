{
 "cells": [
  {
   "cell_type": "code",
   "execution_count": null,
   "metadata": {},
   "outputs": [],
   "source": [
    "%matplotlib inline"
   ]
  },
  {
   "cell_type": "code",
   "execution_count": null,
   "metadata": {},
   "outputs": [],
   "source": [
    "\n",
    "# Faces recognition example using eigenfaces and SVMs\n",
    "\n",
    "\n",
    "The dataset used in this example is a preprocessed excerpt of the\n",
    "\"Labeled Faces in the Wild\", aka LFW_:\n",
    "\n",
    "  http://vis-www.cs.umass.edu/lfw/lfw-funneled.tgz (233MB)\n",
    "\n",
    "\n",
    "Expected results for the top 5 most represented people in the dataset:\n",
    "\n",
    "================== ============ ======= ========== =======\n",
    "                   precision    recall  f1-score   support\n",
    "================== ============ ======= ========== =======\n",
    "     Ariel Sharon       0.67      0.92      0.77        13\n",
    "     Colin Powell       0.75      0.78      0.76        60\n",
    "  Donald Rumsfeld       0.78      0.67      0.72        27\n",
    "    George W Bush       0.86      0.86      0.86       146\n",
    "Gerhard Schroeder       0.76      0.76      0.76        25\n",
    "      Hugo Chavez       0.67      0.67      0.67        15\n",
    "       Tony Blair       0.81      0.69      0.75        36\n",
    "\n",
    "      avg / total       0.80      0.80      0.80       322\n",
    "================== ============ ======= ========== =======\n",
    "\n",
    "\n"
   ]
  },
  {
   "cell_type": "code",
   "execution_count": 1,
   "metadata": {},
   "outputs": [
    {
     "name": "stdout",
     "output_type": "stream",
     "text": [
      "Automatically created module for IPython interactive environment\n"
     ]
    }
   ],
   "source": [
    "from time import time\n",
    "import logging\n",
    "import matplotlib.pyplot as plt\n",
    "\n",
    "from sklearn.model_selection import train_test_split\n",
    "from sklearn.model_selection import GridSearchCV\n",
    "from sklearn.datasets import fetch_lfw_people\n",
    "from sklearn.metrics import classification_report\n",
    "from sklearn.metrics import confusion_matrix\n",
    "from sklearn.decomposition import PCA\n",
    "from sklearn.svm import SVC\n",
    "\n",
    "\n",
    "print(__doc__)"
   ]
  },
  {
   "cell_type": "code",
   "execution_count": 2,
   "metadata": {},
   "outputs": [],
   "source": [
    "# Display progress logs on stdout\n",
    "logging.basicConfig(level=logging.INFO, format='%(asctime)s %(message)s')"
   ]
  },
  {
   "cell_type": "code",
   "execution_count": 3,
   "metadata": {},
   "outputs": [
    {
     "name": "stderr",
     "output_type": "stream",
     "text": [
      "Downloading LFW metadata: https://ndownloader.figshare.com/files/5976012\n",
      "2019-10-19 11:25:53,258 Downloading LFW metadata: https://ndownloader.figshare.com/files/5976012\n",
      "Downloading LFW metadata: https://ndownloader.figshare.com/files/5976009\n",
      "2019-10-19 11:25:54,901 Downloading LFW metadata: https://ndownloader.figshare.com/files/5976009\n",
      "Downloading LFW metadata: https://ndownloader.figshare.com/files/5976006\n",
      "2019-10-19 11:25:56,338 Downloading LFW metadata: https://ndownloader.figshare.com/files/5976006\n",
      "Downloading LFW data (~200MB): https://ndownloader.figshare.com/files/5976015\n",
      "2019-10-19 11:25:58,027 Downloading LFW data (~200MB): https://ndownloader.figshare.com/files/5976015\n"
     ]
    }
   ],
   "source": [
    "# #############################################################################\n",
    "# Download the data, if not already on disk and load it as numpy arrays\n",
    "lfw_people = fetch_lfw_people(min_faces_per_person=70, resize=0.4)"
   ]
  },
  {
   "cell_type": "code",
   "execution_count": null,
   "metadata": {},
   "outputs": [],
   "source": []
  },
  {
   "cell_type": "code",
   "execution_count": 4,
   "metadata": {},
   "outputs": [],
   "source": [
    "# introspect the images arrays to find the shapes (for plotting)\n",
    "n_samples, h, w = lfw_people.images.shape"
   ]
  },
  {
   "cell_type": "code",
   "execution_count": 5,
   "metadata": {},
   "outputs": [
    {
     "data": {
      "text/plain": [
       "1288"
      ]
     },
     "execution_count": 5,
     "metadata": {},
     "output_type": "execute_result"
    }
   ],
   "source": [
    "n_samples"
   ]
  },
  {
   "cell_type": "code",
   "execution_count": 6,
   "metadata": {},
   "outputs": [
    {
     "data": {
      "text/plain": [
       "50"
      ]
     },
     "execution_count": 6,
     "metadata": {},
     "output_type": "execute_result"
    }
   ],
   "source": [
    "h"
   ]
  },
  {
   "cell_type": "code",
   "execution_count": 7,
   "metadata": {},
   "outputs": [
    {
     "data": {
      "text/plain": [
       "37"
      ]
     },
     "execution_count": 7,
     "metadata": {},
     "output_type": "execute_result"
    }
   ],
   "source": [
    "w"
   ]
  },
  {
   "cell_type": "code",
   "execution_count": 8,
   "metadata": {},
   "outputs": [
    {
     "data": {
      "text/plain": [
       "(1288, 50, 37)"
      ]
     },
     "execution_count": 8,
     "metadata": {},
     "output_type": "execute_result"
    }
   ],
   "source": [
    "lfw_people.images.shape"
   ]
  },
  {
   "cell_type": "code",
   "execution_count": 9,
   "metadata": {},
   "outputs": [],
   "source": [
    "# for machine learning we use the 2 data directly (as relative pixel\n",
    "# positions info is ignored by this model)\n",
    "X = lfw_people.data"
   ]
  },
  {
   "cell_type": "code",
   "execution_count": 10,
   "metadata": {},
   "outputs": [
    {
     "data": {
      "text/plain": [
       "array([[254.      , 254.      , 251.66667 , ...,  87.333336,  88.666664,\n",
       "         86.666664],\n",
       "       [ 39.666668,  50.333332,  47.      , ..., 117.666664, 115.      ,\n",
       "        133.66667 ],\n",
       "       [ 89.333336, 104.      , 126.      , ..., 175.33333 , 183.33333 ,\n",
       "        183.      ],\n",
       "       ...,\n",
       "       [ 86.      ,  80.333336,  74.666664, ...,  44.      ,  49.666668,\n",
       "         44.666668],\n",
       "       [ 50.333332,  65.666664,  88.      , ..., 197.      , 179.33333 ,\n",
       "        166.33333 ],\n",
       "       [ 30.      ,  27.      ,  32.666668, ...,  35.      ,  35.333332,\n",
       "         61.      ]], dtype=float32)"
      ]
     },
     "execution_count": 10,
     "metadata": {},
     "output_type": "execute_result"
    }
   ],
   "source": [
    "X"
   ]
  },
  {
   "cell_type": "code",
   "execution_count": 11,
   "metadata": {},
   "outputs": [],
   "source": [
    "\n",
    "n_features = X.shape[1]"
   ]
  },
  {
   "cell_type": "code",
   "execution_count": 12,
   "metadata": {},
   "outputs": [
    {
     "data": {
      "text/plain": [
       "1850"
      ]
     },
     "execution_count": 12,
     "metadata": {},
     "output_type": "execute_result"
    }
   ],
   "source": [
    "n_features"
   ]
  },
  {
   "cell_type": "code",
   "execution_count": 13,
   "metadata": {},
   "outputs": [],
   "source": [
    "y = lfw_people.target"
   ]
  },
  {
   "cell_type": "code",
   "execution_count": 14,
   "metadata": {},
   "outputs": [
    {
     "data": {
      "text/plain": [
       "array([5, 6, 3, ..., 5, 3, 5], dtype=int64)"
      ]
     },
     "execution_count": 14,
     "metadata": {},
     "output_type": "execute_result"
    }
   ],
   "source": [
    "y"
   ]
  },
  {
   "cell_type": "code",
   "execution_count": 15,
   "metadata": {},
   "outputs": [],
   "source": [
    "# the label to predict is the id of the person\n",
    "\n",
    "target_names = lfw_people.target_names"
   ]
  },
  {
   "cell_type": "code",
   "execution_count": 16,
   "metadata": {},
   "outputs": [
    {
     "data": {
      "text/plain": [
       "array(['Ariel Sharon', 'Colin Powell', 'Donald Rumsfeld', 'George W Bush',\n",
       "       'Gerhard Schroeder', 'Hugo Chavez', 'Tony Blair'], dtype='<U17')"
      ]
     },
     "execution_count": 16,
     "metadata": {},
     "output_type": "execute_result"
    }
   ],
   "source": [
    "target_names"
   ]
  },
  {
   "cell_type": "code",
   "execution_count": 17,
   "metadata": {},
   "outputs": [],
   "source": [
    "n_classes = target_names.shape[0]"
   ]
  },
  {
   "cell_type": "code",
   "execution_count": 18,
   "metadata": {},
   "outputs": [
    {
     "data": {
      "text/plain": [
       "7"
      ]
     },
     "execution_count": 18,
     "metadata": {},
     "output_type": "execute_result"
    }
   ],
   "source": [
    "n_classes"
   ]
  },
  {
   "cell_type": "code",
   "execution_count": 19,
   "metadata": {},
   "outputs": [
    {
     "name": "stdout",
     "output_type": "stream",
     "text": [
      "Total dataset size:\n",
      "n_samples: 1288\n",
      "n_features: 1850\n",
      "n_classes: 7\n"
     ]
    }
   ],
   "source": [
    "print(\"Total dataset size:\")\n",
    "print(\"n_samples: %d\" % n_samples)\n",
    "print(\"n_features: %d\" % n_features)\n",
    "print(\"n_classes: %d\" % n_classes)"
   ]
  },
  {
   "cell_type": "code",
   "execution_count": 20,
   "metadata": {},
   "outputs": [],
   "source": [
    "# #############################################################################\n",
    "# Split into a training set and a test set using a stratified k fold\n",
    "\n",
    "# split into a training and testing set\n",
    "X_train, X_test, y_train, y_test = train_test_split(\n",
    "    X, y, test_size=0.25, random_state=42)"
   ]
  },
  {
   "cell_type": "code",
   "execution_count": 23,
   "metadata": {},
   "outputs": [
    {
     "data": {
      "text/plain": [
       "(966, 1850)"
      ]
     },
     "execution_count": 23,
     "metadata": {},
     "output_type": "execute_result"
    }
   ],
   "source": [
    "X_train.shape"
   ]
  },
  {
   "cell_type": "code",
   "execution_count": 24,
   "metadata": {},
   "outputs": [
    {
     "data": {
      "text/plain": [
       "(322, 1850)"
      ]
     },
     "execution_count": 24,
     "metadata": {},
     "output_type": "execute_result"
    }
   ],
   "source": [
    "X_test.shape"
   ]
  },
  {
   "cell_type": "code",
   "execution_count": 25,
   "metadata": {},
   "outputs": [
    {
     "data": {
      "text/plain": [
       "(966,)"
      ]
     },
     "execution_count": 25,
     "metadata": {},
     "output_type": "execute_result"
    }
   ],
   "source": [
    "y_train.shape"
   ]
  },
  {
   "cell_type": "code",
   "execution_count": 26,
   "metadata": {},
   "outputs": [
    {
     "data": {
      "text/plain": [
       "(322,)"
      ]
     },
     "execution_count": 26,
     "metadata": {},
     "output_type": "execute_result"
    }
   ],
   "source": [
    "y_test.shape"
   ]
  },
  {
   "cell_type": "code",
   "execution_count": 27,
   "metadata": {},
   "outputs": [
    {
     "data": {
      "text/plain": [
       "(1288, 1850)"
      ]
     },
     "execution_count": 27,
     "metadata": {},
     "output_type": "execute_result"
    }
   ],
   "source": [
    "X.shape"
   ]
  },
  {
   "cell_type": "code",
   "execution_count": 28,
   "metadata": {},
   "outputs": [
    {
     "data": {
      "text/plain": [
       "(1288,)"
      ]
     },
     "execution_count": 28,
     "metadata": {},
     "output_type": "execute_result"
    }
   ],
   "source": [
    "y.shape"
   ]
  },
  {
   "cell_type": "code",
   "execution_count": 29,
   "metadata": {},
   "outputs": [
    {
     "data": {
      "text/plain": [
       "322.0"
      ]
     },
     "execution_count": 29,
     "metadata": {},
     "output_type": "execute_result"
    }
   ],
   "source": [
    "1288*0.25"
   ]
  },
  {
   "cell_type": "code",
   "execution_count": 30,
   "metadata": {},
   "outputs": [],
   "source": [
    "# #############################################################################\n",
    "# Compute a PCA (eigenfaces) on the face dataset (treated as unlabeled\n",
    "# dataset): unsupervised feature extraction / dimensionality reduction\n",
    "n_components = 150"
   ]
  },
  {
   "cell_type": "code",
   "execution_count": 31,
   "metadata": {},
   "outputs": [
    {
     "name": "stdout",
     "output_type": "stream",
     "text": [
      "Extracting the top 150 eigenfaces from 966 faces\n"
     ]
    }
   ],
   "source": [
    "print(\"Extracting the top %d eigenfaces from %d faces\"\n",
    "      % (n_components, X_train.shape[0]))\n",
    "t0 = time()"
   ]
  },
  {
   "cell_type": "code",
   "execution_count": 32,
   "metadata": {},
   "outputs": [
    {
     "name": "stdout",
     "output_type": "stream",
     "text": [
      "done in 6.864s\n"
     ]
    }
   ],
   "source": [
    "pca = PCA(n_components=n_components, svd_solver='randomized',\n",
    "          whiten=True).fit(X_train)\n",
    "print(\"done in %0.3fs\" % (time() - t0))"
   ]
  },
  {
   "cell_type": "code",
   "execution_count": 34,
   "metadata": {},
   "outputs": [],
   "source": [
    "eigenfaces = pca.components_.reshape((n_components, h, w))"
   ]
  },
  {
   "cell_type": "code",
   "execution_count": 35,
   "metadata": {},
   "outputs": [
    {
     "data": {
      "text/plain": [
       "array([[[-6.8521299e-03, -7.5269938e-03, -9.1891000e-03, ...,\n",
       "         -9.9253338e-03, -9.2412503e-03, -9.5519498e-03],\n",
       "        [-7.2693448e-03, -8.4151486e-03, -1.0821565e-02, ...,\n",
       "         -1.0395840e-02, -9.4533348e-03, -1.0037365e-02],\n",
       "        [-8.2803052e-03, -9.9970549e-03, -1.2791980e-02, ...,\n",
       "         -1.1476460e-02, -9.9721039e-03, -1.0271492e-02],\n",
       "        ...,\n",
       "        [-3.5781355e-03, -3.6091944e-03, -6.0094199e-03, ...,\n",
       "         -1.6046429e-02, -1.4477260e-02, -1.3490868e-02],\n",
       "        [-5.2311500e-03, -5.1138499e-03, -6.1579905e-03, ...,\n",
       "         -1.5562141e-02, -1.3553130e-02, -1.2519458e-02],\n",
       "        [-6.1634039e-03, -6.2009669e-03, -6.6663106e-03, ...,\n",
       "         -1.4337820e-02, -1.2941872e-02, -1.1882893e-02]],\n",
       "\n",
       "       [[ 2.3040870e-02,  2.1551995e-02,  2.2753904e-02, ...,\n",
       "         -2.1021992e-02, -2.1640323e-02, -2.1283392e-02],\n",
       "        [ 2.2700367e-02,  2.1977261e-02,  2.4531063e-02, ...,\n",
       "         -2.1732090e-02, -2.2277270e-02, -2.1863475e-02],\n",
       "        [ 2.2965927e-02,  2.3334697e-02,  2.6437234e-02, ...,\n",
       "         -2.2815673e-02, -2.3044230e-02, -2.2972910e-02],\n",
       "        ...,\n",
       "        [ 3.4286074e-02,  3.7805535e-02,  4.0050108e-02, ...,\n",
       "         -4.4623118e-02, -4.3371033e-02, -4.0695988e-02],\n",
       "        [ 3.3508733e-02,  3.7976127e-02,  4.0388167e-02, ...,\n",
       "         -4.4691581e-02, -4.2815425e-02, -4.1271675e-02],\n",
       "        [ 3.2959465e-02,  3.7307423e-02,  4.0655438e-02, ...,\n",
       "         -4.4001956e-02, -4.3185882e-02, -4.2261295e-02]],\n",
       "\n",
       "       [[ 2.1878617e-02,  2.0162964e-02,  1.9009309e-02, ...,\n",
       "          2.5071165e-02,  2.7327057e-02,  2.9891364e-02],\n",
       "        [ 2.1749424e-02,  2.0379206e-02,  1.8862115e-02, ...,\n",
       "          2.4119046e-02,  2.6497699e-02,  2.8762491e-02],\n",
       "        [ 2.1526001e-02,  1.9713527e-02,  1.8253500e-02, ...,\n",
       "          2.3158301e-02,  2.5358088e-02,  2.7298851e-02],\n",
       "        ...,\n",
       "        [ 6.9716536e-02,  7.3777646e-02,  7.9446137e-02, ...,\n",
       "          5.8904555e-02,  5.5647463e-02,  5.1916759e-02],\n",
       "        [ 6.2532313e-02,  6.7816190e-02,  7.4263453e-02, ...,\n",
       "          5.8549758e-02,  5.3719386e-02,  4.9053345e-02],\n",
       "        [ 5.6493469e-02,  6.2453963e-02,  6.8251640e-02, ...,\n",
       "          5.7234090e-02,  5.0807174e-02,  4.7251582e-02]],\n",
       "\n",
       "       ...,\n",
       "\n",
       "       [[ 3.4264158e-02,  2.0552190e-02,  1.0225136e-02, ...,\n",
       "         -2.3316294e-02, -8.2036648e-03,  1.2134814e-02],\n",
       "        [ 1.9198883e-02,  7.3693768e-04,  6.0165431e-03, ...,\n",
       "         -2.4848431e-02,  7.6246364e-03,  1.9565308e-02],\n",
       "        [-2.2045174e-03, -1.1896148e-02,  1.4611593e-02, ...,\n",
       "         -3.6810488e-02,  1.1999567e-02,  3.1402573e-02],\n",
       "        ...,\n",
       "        [-1.6124055e-02, -2.7010772e-02,  3.6165368e-02, ...,\n",
       "         -4.1838214e-04, -1.5723675e-02, -1.2440641e-02],\n",
       "        [ 1.5791329e-02, -2.1975955e-02, -8.1085544e-03, ...,\n",
       "         -1.9548291e-02,  2.2729071e-02,  2.2935664e-02],\n",
       "        [ 6.4850859e-02,  2.1891654e-03, -3.0313117e-02, ...,\n",
       "         -1.6377600e-02,  5.0920945e-02,  4.0063873e-02]],\n",
       "\n",
       "       [[-1.8236982e-02, -1.9432321e-02, -3.8877521e-02, ...,\n",
       "          8.4057245e-03, -8.3105788e-03, -2.2231853e-02],\n",
       "        [-2.1214949e-04, -6.5234718e-03, -4.6299841e-02, ...,\n",
       "          3.6879131e-04, -1.0200597e-02, -1.7472824e-02],\n",
       "        [ 3.4409039e-02,  1.0489131e-02, -2.8615041e-02, ...,\n",
       "         -1.5033033e-02, -1.6814643e-03, -1.2423896e-02],\n",
       "        ...,\n",
       "        [-3.2387115e-02, -1.4862751e-02, -1.8676726e-02, ...,\n",
       "         -1.0156252e-02,  3.4626059e-02, -3.4928553e-02],\n",
       "        [-1.9744152e-02,  1.8262273e-02,  2.7900903e-02, ...,\n",
       "          3.2208223e-02,  4.5226160e-02, -4.7074422e-02],\n",
       "        [ 5.7649547e-03,  3.8977370e-02,  5.1573478e-02, ...,\n",
       "          5.1754382e-02,  3.3901483e-02, -6.7054614e-02]],\n",
       "\n",
       "       [[-2.4951588e-02, -4.1280086e-03, -3.1628370e-02, ...,\n",
       "          4.1834572e-03, -5.4306211e-03,  2.5148489e-04],\n",
       "        [ 2.9533396e-03, -1.3256568e-03, -3.5846263e-02, ...,\n",
       "          1.0727558e-02,  3.4060229e-03,  5.3848089e-03],\n",
       "        [ 2.5926268e-02, -2.6933823e-03, -3.1165332e-02, ...,\n",
       "          1.5289500e-02,  6.8193348e-03,  1.8418924e-03],\n",
       "        ...,\n",
       "        [-1.9952163e-02, -1.2944975e-02, -6.7172521e-03, ...,\n",
       "          3.6893457e-02,  2.1296125e-02, -1.2468649e-03],\n",
       "        [ 6.2983921e-03,  3.6386100e-05, -2.1680506e-02, ...,\n",
       "          3.3917423e-02,  6.4951614e-03, -8.0488157e-03],\n",
       "        [ 3.3680957e-02,  2.8112700e-02, -4.8679337e-03, ...,\n",
       "          9.2609385e-03, -1.2853569e-02, -2.1710265e-02]]], dtype=float32)"
      ]
     },
     "execution_count": 35,
     "metadata": {},
     "output_type": "execute_result"
    }
   ],
   "source": [
    "eigenfaces"
   ]
  },
  {
   "cell_type": "code",
   "execution_count": 40,
   "metadata": {},
   "outputs": [
    {
     "name": "stdout",
     "output_type": "stream",
     "text": [
      "Projecting the input data on the eigenfaces orthonormal basis\n"
     ]
    }
   ],
   "source": [
    "print(\"Projecting the input data on the eigenfaces orthonormal basis\")\n",
    "t0 = time()"
   ]
  },
  {
   "cell_type": "code",
   "execution_count": 41,
   "metadata": {},
   "outputs": [],
   "source": [
    "X_train_pca = pca.transform(X_train)\n"
   ]
  },
  {
   "cell_type": "code",
   "execution_count": 42,
   "metadata": {},
   "outputs": [
    {
     "data": {
      "text/plain": [
       "array([[-2.0756025 , -1.0457927 ,  2.1269352 , ..., -1.0985746 ,\n",
       "        -2.0817478 ,  0.28661504],\n",
       "       [ 1.3211095 ,  0.59283686,  0.53415436, ..., -0.77941155,\n",
       "        -0.6268091 , -0.60875624],\n",
       "       [-0.76119196, -0.0197303 , -0.23990764, ...,  0.7010521 ,\n",
       "         0.09456967, -0.5619455 ],\n",
       "       ...,\n",
       "       [-0.76031333,  0.0402589 , -0.2124515 , ...,  0.19230193,\n",
       "        -2.7102108 ,  0.02099916],\n",
       "       [-0.26742113,  0.8386407 , -0.22219595, ..., -0.6394804 ,\n",
       "        -0.26766545,  0.5674635 ],\n",
       "       [-1.3195626 , -1.1266966 ,  0.15616919, ..., -1.8965977 ,\n",
       "        -0.9815868 , -0.4868955 ]], dtype=float32)"
      ]
     },
     "execution_count": 42,
     "metadata": {},
     "output_type": "execute_result"
    }
   ],
   "source": [
    "X_train_pca"
   ]
  },
  {
   "cell_type": "code",
   "execution_count": 43,
   "metadata": {},
   "outputs": [],
   "source": [
    "X_test_pca = pca.transform(X_test)"
   ]
  },
  {
   "cell_type": "code",
   "execution_count": 44,
   "metadata": {},
   "outputs": [
    {
     "data": {
      "text/plain": [
       "array([[-1.3752165 , -1.8456278 , -0.9252762 , ...,  1.5178872 ,\n",
       "        -0.22251295,  2.2106576 ],\n",
       "       [-0.81880206,  1.5192864 , -0.6828062 , ..., -0.92216915,\n",
       "         0.45399484,  1.0733985 ],\n",
       "       [-0.86984307, -0.2929443 , -1.2279288 , ..., -0.5876345 ,\n",
       "        -1.6481102 , -0.36955088],\n",
       "       ...,\n",
       "       [ 0.15374437, -0.7177833 ,  0.83880913, ...,  0.9558959 ,\n",
       "        -0.50038457,  1.0214189 ],\n",
       "       [ 0.05700841,  0.48382697, -0.15327951, ...,  3.0970838 ,\n",
       "        -0.4114931 ,  1.4785695 ],\n",
       "       [ 0.19353302,  0.64531595,  0.74912775, ..., -0.36395884,\n",
       "         0.8871828 ,  0.85113317]], dtype=float32)"
      ]
     },
     "execution_count": 44,
     "metadata": {},
     "output_type": "execute_result"
    }
   ],
   "source": [
    "X_test_pca"
   ]
  },
  {
   "cell_type": "code",
   "execution_count": 45,
   "metadata": {},
   "outputs": [
    {
     "name": "stdout",
     "output_type": "stream",
     "text": [
      "done in 48.899s\n"
     ]
    }
   ],
   "source": [
    "print(\"done in %0.3fs\" % (time() - t0))"
   ]
  },
  {
   "cell_type": "code",
   "execution_count": 46,
   "metadata": {},
   "outputs": [
    {
     "name": "stdout",
     "output_type": "stream",
     "text": [
      "Fitting the classifier to the training set\n"
     ]
    }
   ],
   "source": [
    "# #############################################################################\n",
    "# Train a SVM classification model\n",
    "\n",
    "print(\"Fitting the classifier to the training set\")\n",
    "t0 = time()"
   ]
  },
  {
   "cell_type": "code",
   "execution_count": 47,
   "metadata": {},
   "outputs": [
    {
     "name": "stdout",
     "output_type": "stream",
     "text": [
      "done in 40.940s\n",
      "Best estimator found by grid search:\n",
      "SVC(C=1000.0, cache_size=200, class_weight='balanced', coef0=0.0,\n",
      "    decision_function_shape='ovr', degree=3, gamma=0.005, kernel='rbf',\n",
      "    max_iter=-1, probability=False, random_state=None, shrinking=True,\n",
      "    tol=0.001, verbose=False)\n"
     ]
    }
   ],
   "source": [
    "param_grid = {'C': [1e3, 5e3, 1e4, 5e4, 1e5],\n",
    "              'gamma': [0.0001, 0.0005, 0.001, 0.005, 0.01, 0.1], }\n",
    "clf = GridSearchCV(SVC(kernel='rbf', class_weight='balanced'),\n",
    "                   param_grid, cv=5, iid=False)\n",
    "clf = clf.fit(X_train_pca, y_train)\n",
    "print(\"done in %0.3fs\" % (time() - t0))\n",
    "print(\"Best estimator found by grid search:\")\n",
    "print(clf.best_estimator_)"
   ]
  },
  {
   "cell_type": "code",
   "execution_count": 48,
   "metadata": {},
   "outputs": [
    {
     "data": {
      "text/plain": [
       "{'C': [1000.0, 5000.0, 10000.0, 50000.0, 100000.0],\n",
       " 'gamma': [0.0001, 0.0005, 0.001, 0.005, 0.01, 0.1]}"
      ]
     },
     "execution_count": 48,
     "metadata": {},
     "output_type": "execute_result"
    }
   ],
   "source": [
    "param_grid"
   ]
  },
  {
   "cell_type": "code",
   "execution_count": 49,
   "metadata": {},
   "outputs": [
    {
     "data": {
      "text/plain": [
       "GridSearchCV(cv=5, error_score='raise-deprecating',\n",
       "             estimator=SVC(C=1.0, cache_size=200, class_weight='balanced',\n",
       "                           coef0=0.0, decision_function_shape='ovr', degree=3,\n",
       "                           gamma='auto_deprecated', kernel='rbf', max_iter=-1,\n",
       "                           probability=False, random_state=None, shrinking=True,\n",
       "                           tol=0.001, verbose=False),\n",
       "             iid=False, n_jobs=None,\n",
       "             param_grid={'C': [1000.0, 5000.0, 10000.0, 50000.0, 100000.0],\n",
       "                         'gamma': [0.0001, 0.0005, 0.001, 0.005, 0.01, 0.1]},\n",
       "             pre_dispatch='2*n_jobs', refit=True, return_train_score=False,\n",
       "             scoring=None, verbose=0)"
      ]
     },
     "execution_count": 49,
     "metadata": {},
     "output_type": "execute_result"
    }
   ],
   "source": [
    "clf"
   ]
  },
  {
   "cell_type": "code",
   "execution_count": 50,
   "metadata": {},
   "outputs": [
    {
     "name": "stdout",
     "output_type": "stream",
     "text": [
      "Predicting people's names on the test set\n",
      "done in 0.047s\n",
      "                   precision    recall  f1-score   support\n",
      "\n",
      "     Ariel Sharon       0.75      0.46      0.57        13\n",
      "     Colin Powell       0.80      0.87      0.83        60\n",
      "  Donald Rumsfeld       0.94      0.63      0.76        27\n",
      "    George W Bush       0.82      0.98      0.89       146\n",
      "Gerhard Schroeder       1.00      0.80      0.89        25\n",
      "      Hugo Chavez       1.00      0.53      0.70        15\n",
      "       Tony Blair       0.97      0.78      0.86        36\n",
      "\n",
      "         accuracy                           0.85       322\n",
      "        macro avg       0.90      0.72      0.79       322\n",
      "     weighted avg       0.86      0.85      0.84       322\n",
      "\n",
      "[[  6   2   0   5   0   0   0]\n",
      " [  2  52   0   6   0   0   0]\n",
      " [  0   2  17   8   0   0   0]\n",
      " [  0   3   0 143   0   0   0]\n",
      " [  0   1   0   3  20   0   1]\n",
      " [  0   4   0   3   0   8   0]\n",
      " [  0   1   1   6   0   0  28]]\n"
     ]
    }
   ],
   "source": [
    "# #############################################################################\n",
    "# Quantitative evaluation of the model quality on the test set\n",
    "\n",
    "print(\"Predicting people's names on the test set\")\n",
    "t0 = time()\n",
    "y_pred = clf.predict(X_test_pca)\n",
    "print(\"done in %0.3fs\" % (time() - t0))\n",
    "\n",
    "print(classification_report(y_test, y_pred, target_names=target_names))\n",
    "print(confusion_matrix(y_test, y_pred, labels=range(n_classes)))"
   ]
  },
  {
   "cell_type": "code",
   "execution_count": 51,
   "metadata": {},
   "outputs": [],
   "source": [
    "# #############################################################################\n",
    "# Qualitative evaluation of the predictions using matplotlib\n",
    "\n",
    "def plot_gallery(images, titles, h, w, n_row=3, n_col=4):\n",
    "    \"\"\"Helper function to plot a gallery of portraits\"\"\"\n",
    "    plt.figure(figsize=(1.8 * n_col, 2.4 * n_row))\n",
    "    plt.subplots_adjust(bottom=0, left=.01, right=.99, top=.90, hspace=.35)\n",
    "    for i in range(n_row * n_col):\n",
    "        plt.subplot(n_row, n_col, i + 1)\n",
    "        plt.imshow(images[i].reshape((h, w)), cmap=plt.cm.gray)\n",
    "        plt.title(titles[i], size=12)\n",
    "        plt.xticks(())\n",
    "        plt.yticks(())"
   ]
  },
  {
   "cell_type": "code",
   "execution_count": 52,
   "metadata": {},
   "outputs": [],
   "source": [
    "# plot the result of the prediction on a portion of the test set\n",
    "\n",
    "def title(y_pred, y_test, target_names, i):\n",
    "    pred_name = target_names[y_pred[i]].rsplit(' ', 1)[-1]\n",
    "    true_name = target_names[y_test[i]].rsplit(' ', 1)[-1]\n",
    "    return 'predicted: %s\\ntrue:      %s' % (pred_name, true_name)"
   ]
  },
  {
   "cell_type": "code",
   "execution_count": 53,
   "metadata": {},
   "outputs": [
    {
     "data": {
      "image/png": "[encoded data removed]",
      "text/plain": [
       "<Figure size 518.4x518.4 with 12 Axes>"
      ]
     },
     "metadata": {},
     "output_type": "display_data"
    },
    {
     "data": {
      "image/png": "[encoded data removed]",
      "text/plain": [
       "<Figure size 518.4x518.4 with 12 Axes>"
      ]
     },
     "metadata": {},
     "output_type": "display_data"
    }
   ],
   "source": [
    "prediction_titles = [title(y_pred, y_test, target_names, i)\n",
    "                     for i in range(y_pred.shape[0])]\n",
    "\n",
    "plot_gallery(X_test, prediction_titles, h, w)\n",
    "\n",
    "# plot the gallery of the most significative eigenfaces\n",
    "\n",
    "eigenface_titles = [\"eigenface %d\" % i for i in range(eigenfaces.shape[0])]\n",
    "plot_gallery(eigenfaces, eigenface_titles, h, w)\n",
    "\n",
    "plt.show()"
   ]
  },
  {
   "cell_type": "code",
   "execution_count": null,
   "metadata": {},
   "outputs": [],
   "source": []
  }
 ],
 "metadata": {
  "kernelspec": {
   "display_name": "Python 3",
   "language": "python",
   "name": "python3"
  },
  "language_info": {
   "codemirror_mode": {
    "name": "ipython",
    "version": 3
   },
   "file_extension": ".py",
   "mimetype": "text/x-python",
   "name": "python",
   "nbconvert_exporter": "python",
   "pygments_lexer": "ipython3",
   "version": "3.7.3"
  }
 },
 "nbformat": 4,
 "nbformat_minor": 1
}
